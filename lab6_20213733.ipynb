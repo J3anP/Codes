{
  "cells": [
    {
      "cell_type": "markdown",
      "metadata": {
        "id": "6hYqIcXl8oby"
      },
      "source": [
        "# Laboratorio 6\n",
        "\n",
        "Indicaciones generales:\n",
        "\n",
        "* En lo que respecta a `C` no deberá usar punteros, ni arreglos. Tampoco se deberá emplear administración de memoria dinámica, ni de funciones auxiliares de ninguna librería.\n",
        "\n",
        "* Los puntajes de ítems relacionados con mediciones de tiempo, error relativo y presentación de gráficos solo serán asignados en caso sus funciones estén correctamente implementadas.\n",
        "\n",
        "* Las funciones implementadas solo deberán tener los argumentos mencionados en sus respectivos ítems.\n",
        "\n",
        "* Los resultados de la función `_slow_` serán las referencias para medir los speedups.\n",
        "\n",
        "* No se puede emplear ChatGPT, ni ningún modelo de lenguaje.\n",
        "\n",
        "* Puede emplear apuntes, clases y hacer consultas en foros de internet."
      ]
    },
    {
      "cell_type": "code",
      "execution_count": 1,
      "metadata": {
        "id": "paAUiOUEf63U"
      },
      "outputs": [],
      "source": [
        "# no borrar esta celda\n",
        "! rm *.c *.o *.so"
      ]
    },
    {
      "cell_type": "markdown",
      "metadata": {
        "id": "aToubh8_9Mf7"
      },
      "source": [
        "## Ejercicio"
      ]
    },
    {
      "cell_type": "markdown",
      "metadata": {
        "id": "DLiudWQMxCN4"
      },
      "source": [
        "El coseno de un ángulo `x` se calcula con la siguiente serie:\n",
        "\n",
        "$$\n",
        "cos(x) = 1 - \\frac{x^{2}}{2!} + \\frac{x^{4}}{4!} - \\frac{x^{6}}{6!} + \\frac{x^{8}}{8!} - \\cdots\n",
        "$$\n",
        "\n",
        "Durante el laboratorio se le solicitará implementar una grupo de funciones basados en esta serie."
      ]
    },
    {
      "cell_type": "markdown",
      "metadata": {
        "id": "KFL8Xx67x1dM"
      },
      "source": [
        "1. Implementar una función en `python` que calcule el coseno de un ángulo `x`.\n",
        "\n",
        "Nombre: `py_slow_cos`\n",
        "\n",
        "Argumentos:\n",
        "* `x` : ángulo\n",
        "* `n_terms`: cantidad de términos\n",
        "\n",
        "Resultado: `cos(x)`\n",
        "\n",
        "Observaciones: \n",
        "\n",
        "* No debe emplear funciones de módulos auxiliaries, ni suyas propias. \n",
        "* Todo se debe hacer dentro de la función."
      ]
    },
    {
      "cell_type": "code",
      "execution_count": 11,
      "metadata": {},
      "outputs": [],
      "source": [
        "def py_slow_cos(x,n_terms):\n",
        "    cos_x = 0\n",
        "    for n in range(n_terms):\n",
        "        d = 1\n",
        "        for i in range(1,2*n+1):\n",
        "            d = d*i\n",
        "        tn = (((-1)**n))*(x**(2*n))/(1.0*d)\n",
        "        cos_x += tn\n",
        "    return cos_x"
      ]
    },
    {
      "cell_type": "markdown",
      "metadata": {
        "id": "tZb2TQFkyZLB"
      },
      "source": [
        "2. Implementar una función en `python` que calcule el coseno de un ángulo `x`.\n",
        "\n",
        "Nombre: `py_fast_cos`\n",
        "\n",
        "Argumentos:\n",
        "* `x` : ángulo\n",
        "* `n_terms`: cantidad de términos\n",
        "\n",
        "Resultado: `cos(x)`\n",
        "\n",
        "Observaciones: \n",
        "* No puede emplear factorial de ninguna manera. \n",
        "* No debe emplear funciones de módulos auxiliares, ni suyas propias.\n",
        "* Debe ser iterativo.\n",
        "* Sugerencia: Deducir el término $t_{n}$ en función del término $t_{n-1}$"
      ]
    },
    {
      "cell_type": "code",
      "execution_count": 12,
      "metadata": {},
      "outputs": [],
      "source": [
        "def py_fast_cos(x,n_terms):\n",
        "    cos_x = 0\n",
        "    tn = 1\n",
        "    for n in range(1,n_terms+1):\n",
        "        cos_x += tn\n",
        "        tn = (-1.0*x**2/((2*n)*(2*n-1)))*tn\n",
        "    return cos_x"
      ]
    },
    {
      "cell_type": "markdown",
      "metadata": {
        "id": "S-UTwnAly7J_"
      },
      "source": [
        "3. En una celda mágica implementar dos versiones en `C` para la función `py_fast_cos`. Una versión trabajará con tipo `double` y otra trabajará con tipo `long double`. Considere que estas funciones tienen los mismos argumentos que la función `py_fast_cos`.\n",
        "\n",
        "Observaciones:\n",
        "\n",
        "* Justifique el tipo de dato de cada uno de los argumentos.\n",
        "* Justifique el tipo de dato que devuelve la función."
      ]
    },
    {
      "cell_type": "code",
      "execution_count": 13,
      "metadata": {},
      "outputs": [
        {
          "name": "stdout",
          "output_type": "stream",
          "text": [
            "Overwriting funcs.c\n"
          ]
        }
      ],
      "source": [
        "%%file funcs.c\n",
        "#include <stdint.h>\n",
        "double c_d_cos(double x, uint64_t n_terms){\n",
        "    double cos_x = 0.0;\n",
        "    double tn = 1.0;\n",
        "    double den;\n",
        "    for(uint64_t n=1;n<=n_terms;n++){\n",
        "        cos_x = cos_x + tn;\n",
        "        den = (double)((2*n)*(2*n-1));\n",
        "        tn = -1.0*(x*x)*tn/den;\n",
        "    }\n",
        "    return cos_x;\n",
        "}\n",
        "\n",
        "long double c_ld_cos(long double x, uint64_t n_terms){\n",
        "    long double cos_x = 0.0;\n",
        "    long double tn = 1.0;\n",
        "    long double den;\n",
        "    for(uint64_t n=1;n<=n_terms;n++){\n",
        "        cos_x = cos_x + tn;\n",
        "        den = (long double)((2*n)*(2*n-1));\n",
        "        tn = -1.0*(x*x)*tn/den;\n",
        "    }\n",
        "    return cos_x;\n",
        "}"
      ]
    },
    {
      "cell_type": "markdown",
      "metadata": {
        "id": "xTSS1cuczfEL"
      },
      "source": [
        "4. Crear el *object file* y la *shared library*"
      ]
    },
    {
      "cell_type": "code",
      "execution_count": 14,
      "metadata": {},
      "outputs": [],
      "source": [
        "! gcc -c funcs.c -o funcs.o"
      ]
    },
    {
      "cell_type": "code",
      "execution_count": 15,
      "metadata": {},
      "outputs": [],
      "source": [
        "! gcc -fPIC -shared funcs.o -o funcs.so"
      ]
    },
    {
      "cell_type": "markdown",
      "metadata": {
        "id": "pGaNmLYp0B0k"
      },
      "source": [
        "5. Hacer una función que enlace con `Python` mediante `ctypes` las funciones anteriores. Esta función debe devolver las dos funciones configuradas."
      ]
    },
    {
      "cell_type": "code",
      "execution_count": 16,
      "metadata": {},
      "outputs": [],
      "source": [
        "import ctypes\n",
        "import numpy as np\n",
        "\n",
        "def ctypes_funcs():\n",
        "    lib = ctypes.CDLL('./funcs.so')\n",
        "\n",
        "    lib.c_d_cos.argtypes = [ctypes.c_double, ctypes.c_uint64]\n",
        "    lib.c_d_cos.restype = ctypes.c_double\n",
        "\n",
        "    lib.c_ld_cos.argtypes = [ctypes.c_longdouble, ctypes.c_uint64]\n",
        "    lib.c_ld_cos.restype = ctypes.c_longdouble\n",
        "\n",
        "    return lib.c_d_cos, lib.c_ld_cos"
      ]
    },
    {
      "cell_type": "markdown",
      "metadata": {
        "id": "0H67KecC0KKc"
      },
      "source": [
        "6. Haga una instancia de las dos funciones"
      ]
    },
    {
      "cell_type": "code",
      "execution_count": 17,
      "metadata": {},
      "outputs": [],
      "source": [
        "c_d_cos, c_ld_cos = ctypes_funcs()"
      ]
    },
    {
      "cell_type": "markdown",
      "metadata": {
        "id": "0MBLgUiu0abD"
      },
      "source": [
        "7. Implemente una función que de forma iterativa encuentre la cantidad de términos que requieren sus funciones para calcular con una determinada precisión el seno de un grupo de ángulos definidos entre $[inf, sup]$.\n",
        "\n",
        "Nombre de la función: `encontrar_n_terms`\n",
        "\n",
        "Argumentos:\n",
        "\n",
        "* `f`: función\n",
        "\n",
        "* `inf`: extremo izquierdo del dominio\n",
        "\n",
        "* `sup`: extremo derecho del dominio\n",
        "\n",
        "* `n_angs`: cantidad de ángulos\n",
        "\n",
        "* `pre`: precisión\n",
        "\n",
        "Resultado: Cantidad de términos\n",
        "\n",
        "Observaciones: \n",
        "* Puede usar la función `linspace` del módulo `numpy` para crear su vector de ángulos, y la función `norm` del submódulo `linalg` del módulo `numpy` para calcular la norma de un arreglo. \n",
        "* Para su referencia considere el resultado de la función `cos` del módulo `numpy`.\n",
        "\n"
      ]
    },
    {
      "cell_type": "code",
      "execution_count": 24,
      "metadata": {},
      "outputs": [],
      "source": [
        "def encontrar_n_terms(f,inf,sup,n_angs,pre):\n",
        "    ang = np.linspace(inf,sup,num=n_angs)\n",
        "    n_t = 1\n",
        "    err = 0\n",
        "    while(True):\n",
        "        ref = np.cos(ang)\n",
        "        ref = np.array(ref).astype(np.double)\n",
        "        res = f(ang,n_t)\n",
        "        res = np.array(res).astype(np.double)\n",
        "        err = np.linalg.norm(res-ref)/np.linalg.norm(ref)\n",
        "        if (err<pre):\n",
        "            break\n",
        "        n_t+=1\n",
        "    return n_t"
      ]
    },
    {
      "cell_type": "markdown",
      "metadata": {
        "id": "P2oP98tp1uob"
      },
      "source": [
        "8. Haga una prueba de `encontrar_n_terms` para cada una de sus funciones. \n",
        "\n",
        "Considere:\n",
        "* `inf` = -2pi\n",
        "* `sup` = 2pi\n",
        "* `n_angs` = 1000\n",
        "* `pre` = 4e-15\n",
        "\n",
        "Observación: Cada resultado debe estar asignado a una variable independiente y ser mostrado en una celda"
      ]
    },
    {
      "cell_type": "code",
      "execution_count": 29,
      "metadata": {},
      "outputs": [
        {
          "ename": "ArgumentError",
          "evalue": "argument 1: <class 'TypeError'>: wrong type",
          "output_type": "error",
          "traceback": [
            "\u001b[0;31m---------------------------------------------------------------------------\u001b[0m",
            "\u001b[0;31mArgumentError\u001b[0m                             Traceback (most recent call last)",
            "Cell \u001b[0;32mIn[29], line 6\u001b[0m\n\u001b[1;32m      4\u001b[0m pre \u001b[39m=\u001b[39m \u001b[39m4\u001b[39m\u001b[39m*\u001b[39m\u001b[39m1e-15\u001b[39m\n\u001b[1;32m      5\u001b[0m fD \u001b[39m=\u001b[39m c_d_cos\n\u001b[0;32m----> 6\u001b[0m prueba(inf,sup,n_angs,pre)\n\u001b[1;32m      7\u001b[0m n_termsS \u001b[39m=\u001b[39m encontrar_n_terms(py_slow_cos,inf,sup,n_angs,pre)\n\u001b[1;32m      8\u001b[0m \u001b[39mprint\u001b[39m(n_termsS)\n",
            "Cell \u001b[0;32mIn[28], line 8\u001b[0m, in \u001b[0;36mprueba\u001b[0;34m(inf, sup, n_angs, pre)\u001b[0m\n\u001b[1;32m      6\u001b[0m ref \u001b[39m=\u001b[39m np\u001b[39m.\u001b[39mcos(ang)\n\u001b[1;32m      7\u001b[0m ref \u001b[39m=\u001b[39m np\u001b[39m.\u001b[39marray(ref)\u001b[39m.\u001b[39mastype(np\u001b[39m.\u001b[39mdouble)\n\u001b[0;32m----> 8\u001b[0m res \u001b[39m=\u001b[39m c_d_cos(ang,n_t)\n\u001b[1;32m      9\u001b[0m res \u001b[39m=\u001b[39m np\u001b[39m.\u001b[39marray(res)\u001b[39m.\u001b[39mastype(np\u001b[39m.\u001b[39mdouble)\n\u001b[1;32m     10\u001b[0m err \u001b[39m=\u001b[39m np\u001b[39m.\u001b[39mlinalg\u001b[39m.\u001b[39mnorm(res\u001b[39m-\u001b[39mref)\u001b[39m/\u001b[39mnp\u001b[39m.\u001b[39mlinalg\u001b[39m.\u001b[39mnorm(ref)\n",
            "\u001b[0;31mArgumentError\u001b[0m: argument 1: <class 'TypeError'>: wrong type"
          ]
        }
      ],
      "source": [
        "inf = -2*np.pi\n",
        "sup = 2*np.pi\n",
        "n_angs = 1000\n",
        "pre = 4*1e-15\n",
        "fD = c_d_cos\n",
        "n_termsS = encontrar_n_terms(py_slow_cos,inf,sup,n_angs,pre)\n",
        "print(n_termsS)\n",
        "n_termsF = encontrar_n_terms(py_fast_cos,inf,sup,n_angs,pre)\n",
        "print(n_termsF)\n",
        "n_termsD = encontrar_n_terms(c_d_cos,inf,sup,n_angs,pre)\n",
        "print(n_termsD)\n",
        "n_termsLD = encontrar_n_terms(c_ld_cos,inf,sup,n_angs,pre)\n",
        "print(n_termsLD)"
      ]
    },
    {
      "cell_type": "markdown",
      "metadata": {
        "id": "UB_oUDg22Gq5"
      },
      "source": [
        "9. Implemente una función que realice una cantidad de mediciones de tiempo de alguna de sus funciones que calcula el coseno y devuelva la mediana de esas mediciones.\n",
        "\n",
        "Nombre de la función: `encontrar_mediana_de_mediciones_cos`\n",
        "Argumentos:\n",
        "* `f`: función\n",
        "* `ang`: ángulo de la función\n",
        "* `n_terms`: cantidad de términos de la función\n",
        "* `n_iter`: cantidad de iteraciones\n",
        "\n",
        "Resultado: Mediana de las mediciones realizadas.\n",
        "\n",
        "Observación: Puede emplear la función `median` del módulo `statistics`."
      ]
    },
    {
      "cell_type": "code",
      "execution_count": 26,
      "metadata": {},
      "outputs": [],
      "source": [
        "import time\n",
        "import statistics\n",
        "import matplotlib.pyplot as plt\n",
        "\n",
        "def encontrar_mediana_de_mediciones_cos(f,ang,n_terms,n_iter):\n",
        "    lst= []\n",
        "    for i in range(n_iter):\n",
        "        tic = time.perf_counter()\n",
        "        f(ang,n_terms)\n",
        "        toc = time.perf_counter()\n",
        "        lst.append(toc-tic)\n",
        "    return statistics.median(lst)"
      ]
    },
    {
      "cell_type": "markdown",
      "metadata": {
        "id": "cplcMhUb3Dpk"
      },
      "source": [
        "10. Haga dos pruebas de `encontrar_mediana_de_mediciones_cos` para cada una de sus funciones. \n",
        "\n",
        "Prueba 1 :\n",
        "* `ang` = `inf`\n",
        "* `n_iter` = 50\n",
        "\n",
        "Prueba 2 :\n",
        "* `ang` = `sup`\n",
        "* `n_iter` = 50\n",
        "\n",
        "Observaciones:\n",
        "\n",
        "* Cada función empleará su cantidad de términos previamente calculados\n",
        "* Cada resultado deberá ser asignado a una variable independiente"
      ]
    },
    {
      "cell_type": "code",
      "execution_count": 27,
      "metadata": {},
      "outputs": [
        {
          "name": "stdout",
          "output_type": "stream",
          "text": [
            "1.6674997823429294e-05\n",
            "2.9255024855956435e-06\n",
            "5.119982233736664e-07\n",
            "5.129986675456166e-07\n"
          ]
        }
      ],
      "source": [
        "#prueba1\n",
        "ang = inf\n",
        "n_iter = 50\n",
        "n_terms = 19\n",
        "mediana1_s = encontrar_mediana_de_mediciones_cos(py_slow_cos,ang,n_terms,n_iter)\n",
        "mediana1_f = encontrar_mediana_de_mediciones_cos(py_fast_cos,ang,n_terms,n_iter)\n",
        "mediana1_d = encontrar_mediana_de_mediciones_cos(c_d_cos,ang,n_terms,n_iter)\n",
        "mediana1_ld = encontrar_mediana_de_mediciones_cos(c_ld_cos,ang,n_terms,n_iter)\n",
        "print(mediana1_s)\n",
        "print(mediana1_f)\n",
        "print(mediana1_d)\n",
        "print(mediana1_ld)"
      ]
    },
    {
      "cell_type": "code",
      "execution_count": null,
      "metadata": {},
      "outputs": [],
      "source": [
        "#prueba2\n",
        "ang = sup\n",
        "n_iter = 50\n",
        "n_terms = 19\n",
        "mediana2_s = encontrar_mediana_de_mediciones_cos(py_slow_cos,ang,n_terms,n_iter)\n",
        "mediana2_f = encontrar_mediana_de_mediciones_cos(py_fast_cos,ang,n_terms,n_iter)\n",
        "mediana2_d = encontrar_mediana_de_mediciones_cos(c_d_cos,ang,n_terms,n_iter)\n",
        "mediana2_ld = encontrar_mediana_de_mediciones_cos(c_ld_cos,ang,n_terms,n_iter)\n",
        "print(mediana2_s)\n",
        "print(mediana2_f)\n",
        "print(mediana2_d)\n",
        "print(mediana2_ld)"
      ]
    },
    {
      "cell_type": "markdown",
      "metadata": {
        "id": "B9v-TYsn5Bos"
      },
      "source": [
        "11. Presente gráficos de barras de las medianas de los tiempos y de los speedups a partir de sus resultados del ítem anterior"
      ]
    },
    {
      "cell_type": "code",
      "execution_count": null,
      "metadata": {},
      "outputs": [],
      "source": [
        "ang1 = inf\n",
        "ang2 = sup\n",
        "medianas1 = [mediana1_s,mediana1_f,mediana1_d,mediana1_ld]\n",
        "medianas2 = [mediana2_s,mediana2_f,mediana2_d,mediana2_ld]\n",
        "fig = plt.figure()\n",
        "ax = fig.add_axes([0,0,1,1])\n",
        "casos = ['Python lento', 'Python rapido', 'C double', 'C long double']\n",
        "ax.bar(casos, medianas1)\n",
        "plt.title(f'Mediana de tiempos de cos({ang1}) con {n_terms} términos')\n",
        "plt.show()"
      ]
    },
    {
      "cell_type": "code",
      "execution_count": null,
      "metadata": {},
      "outputs": [],
      "source": [
        "fig = plt.figure()\n",
        "ax = fig.add_axes([0,0,1,1])\n",
        "casos = ['Python lento', 'Python rapido', 'C double', 'C long double']\n",
        "ax.bar(casos, medianas2)\n",
        "plt.title(f'Mediana de tiempos de cos({ang2}) con {n_terms} términos')\n",
        "plt.show()"
      ]
    },
    {
      "cell_type": "code",
      "execution_count": null,
      "metadata": {},
      "outputs": [],
      "source": [
        "speedups1 = [mediana1_s/mediana1_f, mediana1_s/mediana1_d, mediana1_s/mediana1_ld]\n",
        "speedups2 = [mediana2_s/mediana2_f, mediana2_s/mediana2_d, mediana2_s/mediana2_ld]\n",
        "fig = plt.figure()\n",
        "ax = fig.add_axes([0,0,1,1])\n",
        "casos = ['Python rapido', 'C double', 'C long double']\n",
        "ax.bar(casos, speedups1)\n",
        "plt.title(f'Speedup de cos({ang1}) con {n_terms} términos')\n",
        "plt.show()"
      ]
    },
    {
      "cell_type": "code",
      "execution_count": null,
      "metadata": {},
      "outputs": [],
      "source": [
        "fig = plt.figure()\n",
        "ax = fig.add_axes([0,0,1,1])\n",
        "casos = ['Python rapido', 'C double', 'C long double']\n",
        "ax.bar(casos, speedups1)\n",
        "plt.title(f'Speedup de cos({ang2}) con {n_terms} términos')\n",
        "plt.show()"
      ]
    },
    {
      "cell_type": "markdown",
      "metadata": {
        "id": "xLWCijBd5Kqd"
      },
      "source": [
        "12. Implemente una función en `Python` que calcule el seno de un arreglo de ángulos.\n",
        "\n",
        "Nombre de la función: `calc_cosens`\n",
        "\n",
        "Argumentos:\n",
        "* `f`: función\n",
        "* `inf`: extremo izquierdo del dominio\n",
        "* `sup`: extremo derecho del dominio\n",
        "* `n_angs`: cantidad de ángulos\n",
        "* `n_terms`: cantidad de términos de la función `f`\n",
        "\n",
        "Resultado: Arreglo de `numpy` con los senos de los ángulos\n",
        "\n",
        "Observación: Puede emplear la función `linspace` del módulo `numpy` para crear su arreglo de ángulos."
      ]
    },
    {
      "cell_type": "code",
      "execution_count": null,
      "metadata": {},
      "outputs": [],
      "source": [
        "def calc_cosens(f,inf,sup,n_angs,n_terms):\n",
        "    ang = np.linspace(inf,sup,num=n_angs)\n",
        "    lt = []\n",
        "    for i in range(n_angs):\n",
        "        lt.append(f(ang[i],n_terms))\n",
        "    return lt"
      ]
    },
    {
      "cell_type": "markdown",
      "metadata": {
        "id": "jEmXSZYK6BTi"
      },
      "source": [
        "13. Implemente una función que realice una cantidad de mediciones de tiempo de su función anterior y devuelva la mediana de esas mediciones.\n",
        "\n",
        "Nombre de la función: `encontrar_mediana_de_mediciones_calc_cosens`\n",
        "\n",
        "Argumentos:\n",
        "* `f`: función\n",
        "* `inf`: extremo izquierdo del dominio\n",
        "* `sup`: extremo derecho del dominio\n",
        "* `n_terms`: cantidad de términos de la función\n",
        "* `n_iter`: cantidad de iteraciones\n",
        "\n",
        "Resultado: Mediana de las mediciones realizadas.\n",
        "\n",
        "Observación: Puede emplear la función `median` del módulo `statistics`."
      ]
    },
    {
      "cell_type": "code",
      "execution_count": null,
      "metadata": {},
      "outputs": [],
      "source": [
        "def encontrar_mediana_de_mediciones_calc_cosens(f,inf,sup,n_angs,n_terms,n_iter):\n",
        "    lst = []\n",
        "    for i in range(n_iter):\n",
        "        tic = time.perf_counter()\n",
        "        calc_cosens(f,inf,sup,n_angs,n_terms)\n",
        "        toc = time.perf_counter()\n",
        "        lst.append(toc-tic)\n",
        "    return statistics.median(lst)"
      ]
    },
    {
      "cell_type": "markdown",
      "metadata": {
        "id": "YJL00rpY6kYE"
      },
      "source": [
        "14. Haga pruebas de `encontrar_mediana_de_mediciones_cosens` para cada una de sus funciones. \n",
        "\n",
        "Observaciones:\n",
        "\n",
        "* Los valores para `inf`, `sup`, `n_angs` y `n_iter` serán los mismos que los definidos anteriormente\n",
        "* Cada función empleará su cantidad de términos previamente calculados\n",
        "* Cada resultado deberá ser asignado a una variable independiente"
      ]
    },
    {
      "cell_type": "code",
      "execution_count": null,
      "metadata": {},
      "outputs": [],
      "source": [
        "inf = -2*np.pi\n",
        "sup = 2*np.pi\n",
        "n_angs = 1000\n",
        "n_terms = 19\n",
        "n_iter = 50\n",
        "result1 = encontrar_mediana_de_mediciones_calc_cosens(py_slow_cos,inf,sup,n_angs,n_terms,n_iter)\n",
        "result2 = encontrar_mediana_de_mediciones_calc_cosens(py_fast_cos,inf,sup,n_angs,n_terms,n_iter)\n",
        "result3 = encontrar_mediana_de_mediciones_calc_cosens(c_d_cos,inf,sup,n_angs,n_terms,n_iter)\n",
        "result4 = encontrar_mediana_de_mediciones_calc_cosens(c_ld_cos,inf,sup,n_angs,n_terms,n_iter)\n",
        "print(result1,result2,result3,result4)"
      ]
    },
    {
      "cell_type": "markdown",
      "metadata": {
        "id": "8aD3NdZD7IHT"
      },
      "source": [
        "15. Presente gráficas de barras de las medianas calculadas en el item anterior y de los speedups a partir de los resultados del ítem anterior."
      ]
    },
    {
      "cell_type": "code",
      "execution_count": null,
      "metadata": {},
      "outputs": [],
      "source": [
        "medianas = [result1,result2,result3,result4]\n",
        "fig = plt.figure()\n",
        "ax = fig.add_axes([0,0,1,1])\n",
        "casos = ['Python lento', 'Python rapido', 'C double', 'C long double']\n",
        "ax.bar(casos, medianas)\n",
        "plt.title(f'Mediana de mediciones')\n",
        "plt.show()"
      ]
    },
    {
      "cell_type": "code",
      "execution_count": null,
      "metadata": {},
      "outputs": [],
      "source": [
        "speedup = [result1/result2,result1/result3,result1/result4]\n",
        "fig = plt.figure()\n",
        "ax = fig.add_axes([0,0,1,1])\n",
        "casos = ['Python rapido', 'C double', 'C long double']\n",
        "ax.bar(casos, speedup)\n",
        "plt.title(f'Mediana de mediciones')\n",
        "plt.show()"
      ]
    },
    {
      "cell_type": "markdown",
      "metadata": {
        "id": "c2I-zZWtAIT1"
      },
      "source": [
        "## Distribución de puntaje\n",
        "\n",
        "| ítem | puntos |\n",
        "|:----:|:------:|\n",
        "|   1  |    1   |\n",
        "|   2  |    2   |\n",
        "|   3  |    4   |\n",
        "|   4  |   0.5  |\n",
        "|   5  |   0.5  |\n",
        "|   6  |   0.5  |\n",
        "|   7  |   1.5  |\n",
        "|   8  |   0.5  |\n",
        "|   9  |   1.5  |\n",
        "|  10  |   0.5  |\n",
        "|  11  |   0.5  |\n",
        "|  12  |   0.5  |\n",
        "|  13  |   0.5  |\n",
        "|  14  |   0.5  |\n",
        "|  15  |   0.5  |"
      ]
    }
  ],
  "metadata": {
    "colab": {
      "provenance": []
    },
    "kernelspec": {
      "display_name": "Python 3",
      "name": "python3"
    },
    "language_info": {
      "codemirror_mode": {
        "name": "ipython",
        "version": 3
      },
      "file_extension": ".py",
      "mimetype": "text/x-python",
      "name": "python",
      "nbconvert_exporter": "python",
      "pygments_lexer": "ipython3",
      "version": "3.10.6"
    }
  },
  "nbformat": 4,
  "nbformat_minor": 0
}
