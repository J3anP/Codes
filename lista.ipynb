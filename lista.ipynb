{
 "cells": [
  {
   "cell_type": "code",
   "execution_count": 2,
   "metadata": {},
   "outputs": [],
   "source": [
    "def calc_max_min(arr,N):\n",
    "    max = arr[0]\n",
    "    min = arr[0]\n",
    "    for i in range(N):\n",
    "        if(arr[i]<min):\n",
    "            min = arr[i]\n",
    "            \n",
    "        if(arr[i]>max):\n",
    "            max = arr[i]\n",
    "    \n",
    "    return min,max"
   ]
  },
  {
   "cell_type": "code",
   "execution_count": 3,
   "metadata": {},
   "outputs": [
    {
     "name": "stdout",
     "output_type": "stream",
     "text": [
      "Overwriting C_max_min.c\n"
     ]
    }
   ],
   "source": [
    "%%file C_max_min.c\n",
    "\n",
    "#include <stdio.h>\n",
    "\n",
    "float C_max_min(float* arreglo,long int N){\n",
    "    float min=arreglo[0], max=arreglo[0];\n",
    "    for(int i=0; i<N;i++){\n",
    "        if(arreglo[i]<min){\n",
    "            min = arreglo[i];\n",
    "        }\n",
    "        if(arreglo[i]>max){\n",
    "            max = arreglo[i];\n",
    "        }\n",
    "    }\n",
    "    return min,max;  \n",
    "}\n"
   ]
  },
  {
   "cell_type": "code",
   "execution_count": 4,
   "metadata": {},
   "outputs": [],
   "source": [
    "\n",
    "! gcc -c C_max_min.c -o C_max_min.o"
   ]
  },
  {
   "cell_type": "code",
   "execution_count": 5,
   "metadata": {},
   "outputs": [],
   "source": [
    "! gcc -shared C_max_min.c -o C_max_min.so"
   ]
  },
  {
   "cell_type": "code",
   "execution_count": 6,
   "metadata": {},
   "outputs": [],
   "source": [
    "import ctypes\n",
    "import numpy as np\n",
    "\n",
    "def ctypes_max_min():\n",
    "    lib = ctypes.CDLL('./C_max_min.so')\n",
    "    \n",
    "    lib.C_max_min.argtypes = [\n",
    "        np.ctypeslib.ndpointer(dtype = np.float32),\n",
    "        ctypes.c_long\n",
    "    ]\n",
    "    lib.C_max_min.restypes = ctypes.c_float, ctypes.c_float\n",
    "    \n",
    "    return lib.C_max_min"
   ]
  },
  {
   "cell_type": "code",
   "execution_count": 7,
   "metadata": {},
   "outputs": [],
   "source": [
    "ctypes_max_min_raw = ctypes_max_min()"
   ]
  },
  {
   "cell_type": "code",
   "execution_count": 8,
   "metadata": {},
   "outputs": [
    {
     "name": "stdout",
     "output_type": "stream",
     "text": [
      "[0.41137599691865034, 0.6716985008097254, 0.7474949998140801, 1.3533154997276142, 1.4615684995078482]\n",
      "[0.09362049968331121, 0.06509150261990726, 0.06893400131957605, 0.06651450166827999, 0.06545750147779472]\n"
     ]
    }
   ],
   "source": [
    "import time\n",
    "import statistics\n",
    "\n",
    "valores = [512,1024,2048,4096,8192]\n",
    "iter = 50\n",
    "\n",
    "#array = (ctypes.c_float*N)()\n",
    "#for i in range(N):\n",
    "    #array[i] = i*0.3\n",
    "    #print(array[i])\n",
    "lstMP=[]\n",
    "lstMC = []\n",
    "lstP=[]\n",
    "lstC=[]\n",
    "for N in valores:\n",
    "    v = np.random.random(size = (N)).astype(np.float32)    \n",
    "    for i in range(iter):\n",
    "        tic1 = time.perf_counter()\n",
    "        calc_max_min(v,N)\n",
    "        toc1 = time.perf_counter()\n",
    "        \n",
    "        lstP.append(toc1-tic1)\n",
    "        \n",
    "        tic2 = time.perf_counter()\n",
    "        ctypes_max_min_raw(v,N)\n",
    "        toc2 = time.perf_counter()\n",
    "        \n",
    "        lstC.append(toc2-tic2)\n",
    "    medianaP = statistics.median(lstP)*1e3\n",
    "    medianaC = statistics.median(lstC)*1e3\n",
    "    lstMP.append(medianaP)\n",
    "    lstMC.append(medianaC)\n",
    "print(lstMP)\n",
    "print(lstMC)\n"
   ]
  },
  {
   "cell_type": "code",
   "execution_count": 9,
   "metadata": {},
   "outputs": [
    {
     "data": {
      "text/plain": [
       "<function matplotlib.pyplot.tight_layout(*, pad=1.08, h_pad=None, w_pad=None, rect=None)>"
      ]
     },
     "execution_count": 9,
     "metadata": {},
     "output_type": "execute_result"
    },
    {
     "data": {
      "image/png": "[encoded data removed]",
      "text/plain": [
       "<Figure size 640x480 with 1 Axes>"
      ]
     },
     "metadata": {},
     "output_type": "display_data"
    }
   ],
   "source": [
    "import matplotlib.pyplot as plt\n",
    "\n",
    "speedup = np.asarray(lstMP)/np.asarray(lstMC)\n",
    "plt.plot(valores, speedup)\n",
    "plt.grid()\n",
    "plt.title('speedup Python vs C')\n",
    "plt.tight_layout"
   ]
  },
  {
   "cell_type": "code",
   "execution_count": null,
   "metadata": {},
   "outputs": [],
   "source": []
  }
 ],
 "metadata": {
  "kernelspec": {
   "display_name": "Python 3",
   "language": "python",
   "name": "python3"
  },
  "language_info": {
   "codemirror_mode": {
    "name": "ipython",
    "version": 3
   },
   "file_extension": ".py",
   "mimetype": "text/x-python",
   "name": "python",
   "nbconvert_exporter": "python",
   "pygments_lexer": "ipython3",
   "version": "3.10.6"
  },
  "orig_nbformat": 4
 },
 "nbformat": 4,
 "nbformat_minor": 2
}
