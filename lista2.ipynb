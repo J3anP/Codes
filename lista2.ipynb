{
 "cells": [
  {
   "cell_type": "code",
   "execution_count": 1,
   "metadata": {},
   "outputs": [],
   "source": [
    "def med_geoP(arr,N):\n",
    "    prod=1\n",
    "    for i in arr:\n",
    "        prod=prod*i\n",
    "    #Newton raphson\n",
    "    #f(y)=y^N-x\n",
    "    x0=1\n",
    "    xc=1\n",
    "    while True:\n",
    "        fx = x0**N - prod\n",
    "        dfx= N*(x0**(N-1))\n",
    "        x1 = x0-fx/dfx\n",
    "        xc=x0\n",
    "        x0=x1\n",
    "        if(abs(x1-xc)<0.01):\n",
    "            break\n",
    "    "
   ]
  },
  {
   "cell_type": "code",
   "execution_count": 2,
   "metadata": {},
   "outputs": [
    {
     "name": "stdout",
     "output_type": "stream",
     "text": [
      "Overwriting med_geoC.c\n"
     ]
    }
   ],
   "source": [
    "%%file med_geoC.c\n",
    "#include <stdio.h>\n",
    "#include <math.h>\n",
    "float med_geoC(float *arr, long int N){\n",
    "    float prod,mg;\n",
    "    prod=1.0;\n",
    "    for(int i;i<N;i++){\n",
    "        prod=prod*arr[i];\n",
    "    }\n",
    "    float x0=1,xc=1;\n",
    "    while(1){\n",
    "        float fx,dfx;\n",
    "        fx = pow(x0,N) - prod;\n",
    "        dfx= N*pow(x0,N-1);\n",
    "        mg = x0 - fx/dfx;\n",
    "        xc=x0;\n",
    "        x0=mg;\n",
    "        if(fabs(mg-xc)<0.01){\n",
    "            break;\n",
    "        }\n",
    "    }   \n",
    "    return mg;\n",
    "}"
   ]
  },
  {
   "cell_type": "code",
   "execution_count": 3,
   "metadata": {},
   "outputs": [],
   "source": [
    "! gcc -c med_geoC.c -o med_geoC.o -lm\n"
   ]
  },
  {
   "cell_type": "code",
   "execution_count": 4,
   "metadata": {},
   "outputs": [],
   "source": [
    "! gcc -shared med_geoC.o -o med_geoC.so"
   ]
  },
  {
   "cell_type": "code",
   "execution_count": 5,
   "metadata": {},
   "outputs": [],
   "source": [
    "import ctypes\n",
    "import numpy as np\n",
    "\n",
    "def ctypes_med_geoC():\n",
    "    lib=ctypes.CDLL('./med_geoC.so')\n",
    "    \n",
    "    lib.med_geoC.argtypes = [\n",
    "        np.ctypeslib.ndpointer(dtype=np.float32),\n",
    "        ctypes.c_long\n",
    "    ]\n",
    "    lib.med_geoC.restype = ctypes.c_float\n",
    "    \n",
    "    return lib.med_geoC"
   ]
  },
  {
   "cell_type": "code",
   "execution_count": 6,
   "metadata": {},
   "outputs": [],
   "source": [
    "med_geoC = ctypes_med_geoC()"
   ]
  },
  {
   "cell_type": "code",
   "execution_count": null,
   "metadata": {},
   "outputs": [],
   "source": [
    "import math\n",
    "N = 64\n",
    "\n",
    "v = np.random.random(size = (N)).astype(np.float32)\n",
    "med_geoP(v,N)\n",
    "prod=1\n",
    "for i in v:\n",
    "    prod=prod*i\n",
    "mg=math.pow(prod,1/N)\n",
    "print(mg)\n"
   ]
  },
  {
   "cell_type": "code",
   "execution_count": 16,
   "metadata": {},
   "outputs": [
    {
     "name": "stdout",
     "output_type": "stream",
     "text": [
      "[6.875800318084657e-05, 8.602499656262808e-05, 7.90424965089187e-05, 9.402549403603189e-05, 0.0001118635045713745, 0.00014354350059875287, 0.00017052800103556365, 0.0002786545010167174, 0.0003109555000264663]\n",
      "[3.837650365312584e-05, 3.8541500543942675e-05, 2.8006998036289588e-05, 2.968050102936104e-05, 3.054199987673201e-05, 3.5110504541080445e-05, 3.7063997297082096e-05, 3.849649874609895e-05, 4.0590501157566905e-05]\n"
     ]
    }
   ],
   "source": [
    "import time\n",
    "import statistics\n",
    "lstMP = []\n",
    "lstMC =[]\n",
    "lstP = []\n",
    "lstC = []\n",
    "arrN = [16,32,128,256,512,1024,2048,4096,8192]\n",
    "\n",
    "iter = 50\n",
    "for N in arrN:\n",
    "    arr = np.random.random(size = (N)).astype(np.float32)\n",
    "    for i in range(iter):\n",
    "        tic1 = time.perf_counter()\n",
    "        med_geoP(arr,N)\n",
    "        toc1 = time.perf_counter()\n",
    "        lstP.append(toc1-tic1)\n",
    "            \n",
    "        tic2 = time.perf_counter()\n",
    "        med_geoC(arr,N)\n",
    "        toc2 = time.perf_counter()\n",
    "        lstC.append(toc2-tic2)\n",
    "    medianaP = statistics.median(lstP)\n",
    "    medianaC = statistics.median(lstC)\n",
    "    lstMP.append(medianaP)\n",
    "    lstMC.append(medianaC)\n",
    "print(lstMP)\n",
    "print(lstMC)\n"
   ]
  },
  {
   "cell_type": "code",
   "execution_count": 17,
   "metadata": {},
   "outputs": [
    {
     "data": {
      "text/plain": [
       "<function matplotlib.pyplot.show(close=None, block=None)>"
      ]
     },
     "execution_count": 17,
     "metadata": {},
     "output_type": "execute_result"
    },
    {
     "data": {
      "image/png": "[encoded data removed]",
      "text/plain": [
       "<Figure size 640x480 with 1 Axes>"
      ]
     },
     "metadata": {},
     "output_type": "display_data"
    }
   ],
   "source": [
    "import matplotlib.pyplot as plt\n",
    "speedup = np.asarray(lstMP)/np.asarray(lstMC)\n",
    "plt.plot(arrN, speedup)\n",
    "plt.grid()\n",
    "plt.title('speedup Python vs C')\n",
    "plt.tight_layout\n",
    "plt.show"
   ]
  }
 ],
 "metadata": {
  "kernelspec": {
   "display_name": "Python 3",
   "language": "python",
   "name": "python3"
  },
  "language_info": {
   "codemirror_mode": {
    "name": "ipython",
    "version": 3
   },
   "file_extension": ".py",
   "mimetype": "text/x-python",
   "name": "python",
   "nbconvert_exporter": "python",
   "pygments_lexer": "ipython3",
   "version": "3.10.6"
  },
  "orig_nbformat": 4
 },
 "nbformat": 4,
 "nbformat_minor": 2
}
