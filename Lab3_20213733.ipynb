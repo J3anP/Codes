{
 "cells": [
  {
   "cell_type": "code",
   "execution_count": 3,
   "metadata": {},
   "outputs": [
    {
     "name": "stdout",
     "output_type": "stream",
     "text": [
      "Arquitectura:                            x86_64\n",
      "  modo(s) de operación de las CPUs:      32-bit, 64-bit\n",
      "  Address sizes:                         39 bits physical, 48 bits virtual\n",
      "  Orden de los bytes:                    Little Endian\n",
      "CPU(s):                                  16\n",
      "  Lista de la(s) CPU(s) en línea:        0-15\n",
      "ID de fabricante:                        GenuineIntel\n",
      "  Nombre del modelo:                     Intel(R) Core(TM) i7-10700 CPU @ 2.90GH\n",
      "                                         z\n",
      "    Familia de CPU:                      6\n",
      "    Modelo:                              165\n",
      "    Hilo(s) de procesamiento por núcleo: 2\n",
      "    Núcleo(s) por «socket»:              8\n",
      "    «Socket(s)»                          1\n",
      "    Revisión:                            5\n",
      "    CPU MHz máx.:                        4800,0000\n",
      "    CPU MHz mín.:                        800,0000\n",
      "    BogoMIPS:                            5799.77\n",
      "    Indicadores:                         fpu vme de pse tsc msr pae mce cx8 apic\n",
      "                                          sep mtrr pge mca cmov pat pse36 clflus\n",
      "                                         h dts acpi mmx fxsr sse sse2 ss ht tm p\n",
      "                                         be syscall nx pdpe1gb rdtscp lm constan\n",
      "                                         t_tsc art arch_perfmon pebs bts rep_goo\n",
      "                                         d nopl xtopology nonstop_tsc cpuid aper\n",
      "                                         fmperf pni pclmulqdq dtes64 monitor ds_\n",
      "                                         cpl vmx smx est tm2 ssse3 sdbg fma cx16\n",
      "                                          xtpr pdcm pcid sse4_1 sse4_2 x2apic mo\n",
      "                                         vbe popcnt tsc_deadline_timer aes xsave\n",
      "                                          avx f16c rdrand lahf_lm abm 3dnowprefe\n",
      "                                         tch cpuid_fault epb invpcid_single ssbd\n",
      "                                          ibrs ibpb stibp ibrs_enhanced tpr_shad\n",
      "                                         ow vnmi flexpriority ept vpid ept_ad fs\n",
      "                                         gsbase tsc_adjust bmi1 avx2 smep bmi2 e\n",
      "                                         rms invpcid mpx rdseed adx smap clflush\n",
      "                                         opt intel_pt xsaveopt xsavec xgetbv1 xs\n",
      "                                         aves dtherm ida arat pln pts hwp hwp_no\n",
      "                                         tify hwp_act_window hwp_epp pku ospke m\n",
      "                                         d_clear flush_l1d arch_capabilities\n",
      "Virtualization features:                 \n",
      "  Virtualización:                        VT-x\n",
      "Caches (sum of all):                     \n",
      "  L1d:                                   256 KiB (8 instances)\n",
      "  L1i:                                   256 KiB (8 instances)\n",
      "  L2:                                    2 MiB (8 instances)\n",
      "  L3:                                    16 MiB (1 instance)\n",
      "NUMA:                                    \n",
      "  Modo(s) NUMA:                          1\n",
      "  CPU(s) del nodo NUMA 0:                0-15\n",
      "Vulnerabilities:                         \n",
      "  Itlb multihit:                         KVM: Mitigation: VMX disabled\n",
      "  L1tf:                                  Not affected\n",
      "  Mds:                                   Not affected\n",
      "  Meltdown:                              Not affected\n",
      "  Mmio stale data:                       Mitigation; Clear CPU buffers; SMT vuln\n",
      "                                         erable\n",
      "  Retbleed:                              Mitigation; Enhanced IBRS\n",
      "  Spec store bypass:                     Mitigation; Speculative Store Bypass di\n",
      "                                         sabled via prctl\n",
      "  Spectre v1:                            Mitigation; usercopy/swapgs barriers an\n",
      "                                         d __user pointer sanitization\n",
      "  Spectre v2:                            Mitigation; Enhanced IBRS, IBPB conditi\n",
      "                                         onal, RSB filling, PBRSB-eIBRS SW seque\n",
      "                                         nce\n",
      "  Srbds:                                 Mitigation; Microcode\n",
      "  Tsx async abort:                       Not affected\n"
     ]
    }
   ],
   "source": [
    "! lscpu"
   ]
  },
  {
   "attachments": {},
   "cell_type": "markdown",
   "metadata": {},
   "source": [
    "Frecuencia del CPU: 2800 MHz"
   ]
  },
  {
   "cell_type": "code",
   "execution_count": 138,
   "metadata": {},
   "outputs": [
    {
     "name": "stdout",
     "output_type": "stream",
     "text": [
      "Overwriting suma_cubos.c\n"
     ]
    }
   ],
   "source": [
    "%%file suma_cubos.c\n",
    "\n",
    "#include <stdio.h>\n",
    "/*el puntero ingresado es para dirección de un entero y la función devuelve la suma de num enteros*/\n",
    "int suma_cubo(int* val, int N){\n",
    "    int suma_c = 0;\n",
    "    for(int i=0;i<N;i++){\n",
    "        suma_c = suma_c + val[i]*val[i]*val[i];\n",
    "    }\n",
    "    return suma_c;\n",
    "}\n"
   ]
  },
  {
   "cell_type": "code",
   "execution_count": 141,
   "metadata": {},
   "outputs": [],
   "source": [
    "! gcc -Os -c suma_cubos.c -o suma_cubos.o"
   ]
  },
  {
   "cell_type": "code",
   "execution_count": 142,
   "metadata": {},
   "outputs": [
    {
     "name": "stdout",
     "output_type": "stream",
     "text": [
      "\n",
      "suma_cubos.o:     formato del fichero elf64-x86-64\n",
      "\n",
      "\n",
      "Desensamblado de la sección .text:\n",
      "\n",
      "0000000000000000 <suma_cubo>:\n",
      "   0:\tf3 0f 1e fa          \tendbr64 \n",
      "   4:\t31 c0                \txor    eax,eax\n",
      "   6:\t45 31 c0             \txor    r8d,r8d\n",
      "   9:\t39 c6                \tcmp    esi,eax\n",
      "   b:\t7e 13                \tjle    20 <suma_cubo+0x20>\n",
      "   d:\t8b 0c 87             \tmov    ecx,DWORD PTR [rdi+rax*4]\n",
      "  10:\t48 ff c0             \tinc    rax\n",
      "  13:\t89 ca                \tmov    edx,ecx\n",
      "  15:\t0f af d1             \timul   edx,ecx\n",
      "  18:\t0f af d1             \timul   edx,ecx\n",
      "  1b:\t41 01 d0             \tadd    r8d,edx\n",
      "  1e:\teb e9                \tjmp    9 <suma_cubo+0x9>\n",
      "  20:\t44 89 c0             \tmov    eax,r8d\n",
      "  23:\tc3                   \tret    \n"
     ]
    }
   ],
   "source": [
    "! objdump -M intel -j .text -D suma_cubos.o"
   ]
  },
  {
   "cell_type": "code",
   "execution_count": 164,
   "metadata": {},
   "outputs": [
    {
     "name": "stdout",
     "output_type": "stream",
     "text": [
      "Overwriting main.c\n"
     ]
    }
   ],
   "source": [
    "%%file main.c\n",
    "\n",
    "#include <stdio.h>\n",
    "#include <stdlib.h>\n",
    "#include <x86intrin.h>\n",
    "#include <time.h>\n",
    "/*la cantidad de instrucciones siempre es un numero entero y la funcion va a devolver un arreglo*/\n",
    "int* Crear_arr(int N){\n",
    "    /*dirección de memoria para datos enteros*/\n",
    "    int *v = (int*)malloc(sizeof(int)*N);\n",
    "    for(int i=0;i<N;i++){\n",
    "        v[i] = rand() %10;\n",
    "    }\n",
    "    return v;\n",
    "}\n",
    "/*el puntero ingresado es para dirección de un entero y la función devuelve la suma de num enteros*/\n",
    "int suma_cubo(int* val, int N){\n",
    "    int suma_c = 0;\n",
    "    for(int i=0;i<N;i++){\n",
    "        suma_c = suma_c + val[i]*val[i]*val[i];\n",
    "    }\n",
    "    return suma_c;\n",
    "}\n",
    "/*la cantidad de instrucciones son enteras y muchas*/\n",
    "long int calc_num_inst(int N){\n",
    "    return (9*N+7);\n",
    "}\n",
    "/* Los CPI son numeros decimales*/\n",
    "/*los argumentos de entrada son enteros muy grandes*/\n",
    "double calcular_CPI(long int cant_cicl,long int cant_inst){\n",
    "    return (double)cant_cicl/((double)cant_inst);\n",
    "}\n",
    "/*Esta funcion tiene argumentos de entrada tipo double, por ende devolverá el mismo tipo de dato*/\n",
    "double calcular_MIPS(double f, double CPI){\n",
    "    return f/((CPI)*1e6);\n",
    "}\n",
    "/*Esta funcion va a imprimir*/\n",
    "void Test(int N){\n",
    "    int iterr = 100000;\n",
    "\n",
    "    /*valores decimales*/\n",
    "    double min_CPI = 1000, max_CPI = 0, min_MIPS = 1000, max_MIPS=0;\n",
    "    double med_CPI, med_MIPS;\n",
    "    double suma_CPI = 0, suma_MIPS = 0;\n",
    "\n",
    "    /*dato obtenido anteriormente*/\n",
    "    double f = 2800*1e6;\n",
    "    \n",
    "    for(int a=0;a<iterr;a++){\n",
    "        /*Los valores son enteros muy grandes*/\n",
    "        long int tic,toc,ciclos,num_inst;\n",
    "        /*arreglo de enteros*/\n",
    "        int* arr = Crear_arr(N);\n",
    "        tic = __rdtsc();\n",
    "        suma_cubo(arr,N);\n",
    "        toc = __rdtsc();\n",
    "        free(arr);\n",
    "        ciclos = toc - tic;\n",
    "        num_inst = calc_num_inst(N);\n",
    "\n",
    "        /*calculando CPI*/\n",
    "        double CPI = calcular_CPI(ciclos,num_inst);\n",
    "\n",
    "        /*calc los MIPS*/\n",
    "        double MIPS = calcular_MIPS(f,CPI);\n",
    "\n",
    "        /*A continuación se obtendra la suma total de los CPI y MIPs con sus respectivos max y min*/\n",
    "        /*Primero con el CPI*/\n",
    "\n",
    "        suma_CPI = suma_CPI + CPI;\n",
    "\n",
    "        if(min_CPI>CPI){\n",
    "            min_CPI = CPI;\n",
    "        }\n",
    "        if(max_CPI<CPI){\n",
    "            max_CPI = CPI;\n",
    "        }\n",
    "\n",
    "        /*Ahora con los MIPS*/\n",
    "        suma_MIPS = suma_MIPS + MIPS;\n",
    "\n",
    "        if(min_MIPS>MIPS){\n",
    "            min_MIPS = MIPS;\n",
    "        }\n",
    "        if(max_MIPS<MIPS){\n",
    "            max_MIPS = MIPS;\n",
    "        }\n",
    "    }\n",
    "    /*Obteniendo la media de CPI y MIPS*/\n",
    "    med_CPI = suma_CPI/iterr;\n",
    "    med_MIPS = suma_MIPS/iterr;\n",
    "    printf(\"Para el CPI\\n\");\n",
    "    printf(\"El minímo valor es: %lf\\nEl máximo valor es: %lf\\nLa media es: %lf\\n\\n\",min_CPI,max_CPI,med_CPI);\n",
    "    printf(\"Para los MIPS\\n\");\n",
    "    printf(\"El minímo valor es: %lf\\nEl máximo valor es: %lf\\nLa media es: %lf\\n\",min_MIPS,max_MIPS,med_MIPS);\n",
    "    \n",
    "}\n",
    "\n",
    "int main(int argc, char const* argv[]){\n",
    "    srand(time(NULL));\n",
    "    int N;\n",
    "    if(argc==1){\n",
    "        N=16384;\n",
    "        Test(N);\n",
    "    }else{\n",
    "        if(argc>2){\n",
    "            printf(\"Está pasando más de la cantidad de argumentos requeridos. Solo se acepta como máximo uno.\\n\");\n",
    "            return 0;\n",
    "        }else{\n",
    "            N = atoi(argv[1]);\n",
    "            Test(N);\n",
    "        }\n",
    "    }\n",
    "    return 0;\n",
    "}"
   ]
  },
  {
   "cell_type": "code",
   "execution_count": 165,
   "metadata": {},
   "outputs": [],
   "source": [
    "! gcc main.c -o main\n"
   ]
  },
  {
   "cell_type": "code",
   "execution_count": 166,
   "metadata": {},
   "outputs": [
    {
     "name": "stdout",
     "output_type": "stream",
     "text": [
      "Para el CPI\n",
      "El minímo valor es: 0.599927\n",
      "El máximo valor es: 18.059018\n",
      "La media es: 0.618310\n",
      "\n",
      "Para los MIPS\n",
      "El minímo valor es: 155.047189\n",
      "El máximo valor es: 4667.236371\n",
      "La media es: 4556.680685\n"
     ]
    }
   ],
   "source": [
    "! ./main"
   ]
  },
  {
   "cell_type": "code",
   "execution_count": 162,
   "metadata": {},
   "outputs": [
    {
     "name": "stdout",
     "output_type": "stream",
     "text": [
      "Está pasando más de la cantidad de argumentos requeridos. Solo se acepta como máximo uno.\n"
     ]
    }
   ],
   "source": [
    "! ./main 100 200"
   ]
  },
  {
   "cell_type": "code",
   "execution_count": 159,
   "metadata": {},
   "outputs": [
    {
     "name": "stdout",
     "output_type": "stream",
     "text": [
      "Para el CPI\n",
      "El minímo valor es: 0.601304\n",
      "El máximo valor es: 3.225692\n",
      "La media es: 0.616432\n",
      "\n",
      "Para los MIPS\n",
      "El minímo valor es: 868.030669\n",
      "El máximo valor es: 4656.545766\n",
      "La media es: 4563.806062\n"
     ]
    }
   ],
   "source": [
    "! ./main 32768"
   ]
  },
  {
   "cell_type": "code",
   "execution_count": 163,
   "metadata": {},
   "outputs": [
    {
     "name": "stdout",
     "output_type": "stream",
     "text": [
      "Para el CPI\n",
      "El minímo valor es: 0.602393\n",
      "El máximo valor es: 2.163152\n",
      "La media es: 0.620108\n",
      "\n",
      "Para los MIPS\n",
      "El minímo valor es: 1000.000000\n",
      "El máximo valor es: 4648.129239\n",
      "La media es: 4536.167344\n"
     ]
    }
   ],
   "source": [
    "! ./main 65536"
   ]
  }
 ],
 "metadata": {
  "kernelspec": {
   "display_name": "Python 3 (ipykernel)",
   "language": "python",
   "name": "python3"
  },
  "language_info": {
   "codemirror_mode": {
    "name": "ipython",
    "version": 3
   },
   "file_extension": ".py",
   "mimetype": "text/x-python",
   "name": "python",
   "nbconvert_exporter": "python",
   "pygments_lexer": "ipython3",
   "version": "3.10.6"
  }
 },
 "nbformat": 4,
 "nbformat_minor": 2
}
